{
  "nbformat": 4,
  "nbformat_minor": 0,
  "metadata": {
    "colab": {
      "name": "A3",
      "provenance": [],
      "collapsed_sections": [],
      "toc_visible": true,
      "machine_shape": "hm"
    },
    "kernelspec": {
      "name": "python3",
      "display_name": "Python 3"
    },
    "accelerator": "GPU"
  },
  "cells": [
    {
      "cell_type": "code",
      "metadata": {
        "id": "fQhSr_LqSIg4"
      },
      "source": [
        "!wget -q https://github.com/CISC-372/Notebook/releases/download/a4/test.csv\n",
        "!wget -q https://github.com/CISC-372/Notebook/releases/download/a4/train.csv"
      ],
      "execution_count": 1,
      "outputs": []
    },
    {
      "cell_type": "code",
      "metadata": {
        "id": "uaABvQpluwjs",
        "colab": {
          "base_uri": "https://localhost:8080/",
          "height": 419
        },
        "outputId": "1af7bb10-2476-459e-a160-21c0c4db7b9e"
      },
      "source": [
        "# comment your understanding of each function \n",
        "import pandas as pd\n",
        "import csv\n",
        "\n",
        "\n",
        "xy_train_df = pd.read_csv('train.csv')\n",
        "x_test_df  = pd.read_csv('test.csv', index_col='id')\n",
        "\n",
        "\n",
        "xy_train_df['length'] = xy_train_df.apply(lambda x: len(x.review), axis=1)\n",
        "xy_train_df = xy_train_df.sort_values('length')\n",
        "xy_train_df"
      ],
      "execution_count": 2,
      "outputs": [
        {
          "output_type": "execute_result",
          "data": {
            "text/html": [
              "<div>\n",
              "<style scoped>\n",
              "    .dataframe tbody tr th:only-of-type {\n",
              "        vertical-align: middle;\n",
              "    }\n",
              "\n",
              "    .dataframe tbody tr th {\n",
              "        vertical-align: top;\n",
              "    }\n",
              "\n",
              "    .dataframe thead th {\n",
              "        text-align: right;\n",
              "    }\n",
              "</style>\n",
              "<table border=\"1\" class=\"dataframe\">\n",
              "  <thead>\n",
              "    <tr style=\"text-align: right;\">\n",
              "      <th></th>\n",
              "      <th>id</th>\n",
              "      <th>rating</th>\n",
              "      <th>review</th>\n",
              "      <th>length</th>\n",
              "    </tr>\n",
              "  </thead>\n",
              "  <tbody>\n",
              "    <tr>\n",
              "      <th>6037</th>\n",
              "      <td>2596</td>\n",
              "      <td>1</td>\n",
              "      <td>Five Stars_GOOD</td>\n",
              "      <td>15</td>\n",
              "    </tr>\n",
              "    <tr>\n",
              "      <th>5353</th>\n",
              "      <td>4643</td>\n",
              "      <td>1</td>\n",
              "      <td>Love it_Love it</td>\n",
              "      <td>15</td>\n",
              "    </tr>\n",
              "    <tr>\n",
              "      <th>2545</th>\n",
              "      <td>8791</td>\n",
              "      <td>1</td>\n",
              "      <td>Five Stars_Good</td>\n",
              "      <td>15</td>\n",
              "    </tr>\n",
              "    <tr>\n",
              "      <th>3902</th>\n",
              "      <td>6098</td>\n",
              "      <td>1</td>\n",
              "      <td>Five Stars_love!</td>\n",
              "      <td>16</td>\n",
              "    </tr>\n",
              "    <tr>\n",
              "      <th>2850</th>\n",
              "      <td>4609</td>\n",
              "      <td>1</td>\n",
              "      <td>love these_so cute!</td>\n",
              "      <td>19</td>\n",
              "    </tr>\n",
              "    <tr>\n",
              "      <th>...</th>\n",
              "      <td>...</td>\n",
              "      <td>...</td>\n",
              "      <td>...</td>\n",
              "      <td>...</td>\n",
              "    </tr>\n",
              "    <tr>\n",
              "      <th>5651</th>\n",
              "      <td>518</td>\n",
              "      <td>1</td>\n",
              "      <td>So far, it's awesome_Ok, so I'll say up front ...</td>\n",
              "      <td>5765</td>\n",
              "    </tr>\n",
              "    <tr>\n",
              "      <th>1615</th>\n",
              "      <td>124</td>\n",
              "      <td>1</td>\n",
              "      <td>It Works (Read Tips For Potential Effectivenes...</td>\n",
              "      <td>6740</td>\n",
              "    </tr>\n",
              "    <tr>\n",
              "      <th>5046</th>\n",
              "      <td>7257</td>\n",
              "      <td>1</td>\n",
              "      <td>An exquisitely effective product with an astou...</td>\n",
              "      <td>8082</td>\n",
              "    </tr>\n",
              "    <tr>\n",
              "      <th>4859</th>\n",
              "      <td>7555</td>\n",
              "      <td>1</td>\n",
              "      <td>Gorgeous professional looking manicure at home...</td>\n",
              "      <td>8134</td>\n",
              "    </tr>\n",
              "    <tr>\n",
              "      <th>2758</th>\n",
              "      <td>4823</td>\n",
              "      <td>1</td>\n",
              "      <td>WAITED TO WRITE THIS REVIEW UNTIL AFTER READIN...</td>\n",
              "      <td>12773</td>\n",
              "    </tr>\n",
              "  </tbody>\n",
              "</table>\n",
              "<p>6223 rows × 4 columns</p>\n",
              "</div>"
            ],
            "text/plain": [
              "        id  rating                                             review  length\n",
              "6037  2596       1                                    Five Stars_GOOD      15\n",
              "5353  4643       1                                    Love it_Love it      15\n",
              "2545  8791       1                                    Five Stars_Good      15\n",
              "3902  6098       1                                   Five Stars_love!      16\n",
              "2850  4609       1                                love these_so cute!      19\n",
              "...    ...     ...                                                ...     ...\n",
              "5651   518       1  So far, it's awesome_Ok, so I'll say up front ...    5765\n",
              "1615   124       1  It Works (Read Tips For Potential Effectivenes...    6740\n",
              "5046  7257       1  An exquisitely effective product with an astou...    8082\n",
              "4859  7555       1  Gorgeous professional looking manicure at home...    8134\n",
              "2758  4823       1  WAITED TO WRITE THIS REVIEW UNTIL AFTER READIN...   12773\n",
              "\n",
              "[6223 rows x 4 columns]"
            ]
          },
          "metadata": {
            "tags": []
          },
          "execution_count": 2
        }
      ]
    },
    {
      "cell_type": "code",
      "metadata": {
        "id": "dHl0DGCyvA7l",
        "colab": {
          "base_uri": "https://localhost:8080/"
        },
        "outputId": "ac3c7822-f925-43df-f2c6-86f56c8fba07"
      },
      "source": [
        "# comment your understanding of each function and each parameter below:\n",
        "\n",
        "from tensorflow.keras.preprocessing.text import Tokenizer\n",
        "from tensorflow.keras.preprocessing.sequence import pad_sequences\n",
        "from sklearn.model_selection import train_test_split\n",
        "\n",
        "vocab_size = 10000\n",
        "max_len = 256\n",
        "\n",
        "xy_train, xy_validation = train_test_split(\n",
        "    xy_train_df, test_size=0.2)\n",
        "\n",
        "# build vocabulary from training set\n",
        "tokenizer = Tokenizer(num_words=vocab_size)\n",
        "tokenizer.fit_on_texts(xy_train.review)\n",
        "\n",
        "\n",
        "def _preprocess(texts):\n",
        "  return pad_sequences(\n",
        "      tokenizer.texts_to_sequences(texts),\n",
        "      maxlen=max_len, \n",
        "      padding='post'\n",
        "  )\n",
        "\n",
        "\n",
        "x_train = _preprocess(xy_train.review)\n",
        "y_train = xy_train.rating\n",
        "\n",
        "x_valid = _preprocess(xy_validation.review)\n",
        "y_valid = xy_validation.rating\n",
        "\n",
        "x_test = _preprocess(x_test_df.review)\n",
        "\n",
        "print(x_train.shape)\n",
        "print(x_valid.shape)\n",
        "print(x_test.shape)"
      ],
      "execution_count": 3,
      "outputs": [
        {
          "output_type": "stream",
          "text": [
            "(4978, 256)\n",
            "(1245, 256)\n",
            "(2667, 256)\n"
          ],
          "name": "stdout"
        }
      ]
    },
    {
      "cell_type": "code",
      "metadata": {
        "id": "_EtEv2RivFKP"
      },
      "source": [
        "from __future__ import absolute_import, division, print_function, unicode_literals\n",
        "import collections\n",
        "import matplotlib.pyplot as plt\n",
        "import numpy as np\n",
        "import tensorflow as tf\n",
        "from tensorflow import keras\n",
        "\n",
        "\n",
        "import tensorflow as tf\n",
        "from tensorflow.keras.optimizers import Adam\n",
        "\n",
        "# comment your understanding of each line and \n",
        "# the output shape of each line below. for each dimensionality, explains its \n",
        "# meaning. (e.g. None is the batch size)\n",
        "\n",
        "x = keras.Input((max_len))\n",
        "\n",
        "embeded = keras.layers.Embedding(vocab_size, 20)(x)\n",
        "\n",
        "averaged = tf.reduce_mean(embeded, axis=1)\n",
        "\n",
        "pred = keras.layers.Dense(1, activation=tf.nn.sigmoid)(averaged)\n",
        "\n",
        "model = keras.Model(x, pred)\n",
        "\n",
        "model.compile(\n",
        "    optimizer=Adam(clipnorm=4.),\n",
        "    loss='binary_crossentropy',\n",
        "    metrics=['accuracy'])"
      ],
      "execution_count": 4,
      "outputs": []
    },
    {
      "cell_type": "code",
      "metadata": {
        "id": "Ul6NLiRA9xQ1",
        "outputId": "7d133c65-85a6-45f7-d011-f12c44b6cacc",
        "colab": {
          "base_uri": "https://localhost:8080/"
        }
      },
      "source": [
        "history = model.fit(x_train,\n",
        "                    y_train,\n",
        "                    epochs=5,\n",
        "                    batch_size=64,\n",
        "                    validation_data=(x_valid, y_valid),\n",
        "                    verbose=1)"
      ],
      "execution_count": 5,
      "outputs": [
        {
          "output_type": "stream",
          "text": [
            "Epoch 1/5\n",
            "78/78 [==============================] - 2s 10ms/step - loss: 0.6611 - accuracy: 0.7026 - val_loss: 0.5413 - val_accuracy: 0.8691\n",
            "Epoch 2/5\n",
            "78/78 [==============================] - 0s 6ms/step - loss: 0.5025 - accuracy: 0.8742 - val_loss: 0.4223 - val_accuracy: 0.8691\n",
            "Epoch 3/5\n",
            "78/78 [==============================] - 0s 6ms/step - loss: 0.3925 - accuracy: 0.8821 - val_loss: 0.3885 - val_accuracy: 0.8691\n",
            "Epoch 4/5\n",
            "78/78 [==============================] - 0s 6ms/step - loss: 0.3847 - accuracy: 0.8693 - val_loss: 0.3837 - val_accuracy: 0.8691\n",
            "Epoch 5/5\n",
            "78/78 [==============================] - 0s 6ms/step - loss: 0.3564 - accuracy: 0.8825 - val_loss: 0.3820 - val_accuracy: 0.8691\n"
          ],
          "name": "stdout"
        }
      ]
    },
    {
      "cell_type": "code",
      "metadata": {
        "id": "z_naN0rn3OlN",
        "colab": {
          "base_uri": "https://localhost:8080/"
        },
        "outputId": "df5b12f3-fe96-4ba0-da18-d13143d3ca9f"
      },
      "source": [
        "model.evaluate(x_valid, y_valid)"
      ],
      "execution_count": 6,
      "outputs": [
        {
          "output_type": "stream",
          "text": [
            "39/39 [==============================] - 0s 2ms/step - loss: 0.3820 - accuracy: 0.8691\n"
          ],
          "name": "stdout"
        },
        {
          "output_type": "execute_result",
          "data": {
            "text/plain": [
              "[0.3819705843925476, 0.8690763115882874]"
            ]
          },
          "metadata": {
            "tags": []
          },
          "execution_count": 6
        }
      ]
    },
    {
      "cell_type": "code",
      "metadata": {
        "id": "Byj-weFZvaaS",
        "colab": {
          "base_uri": "https://localhost:8080/"
        },
        "outputId": "40bf5ff6-9ce9-45b8-d5be-57bbd46d7574"
      },
      "source": [
        "def predict_class(_dataset):\n",
        "  classes = model.predict(_dataset) > 0.5\n",
        "  return np.squeeze(classes * 1) \n",
        "\n",
        "y_predict = predict_class(x_valid)\n",
        "\n",
        "from sklearn.metrics import  f1_score\n",
        "from sklearn.metrics import confusion_matrix\n",
        "\n",
        "print(f1_score(y_valid, y_predict, average='micro'))"
      ],
      "execution_count": 10,
      "outputs": [
        {
          "output_type": "stream",
          "text": [
            "0.8690763052208834\n"
          ],
          "name": "stdout"
        }
      ]
    },
    {
      "cell_type": "code",
      "metadata": {
        "id": "8FDSaQaxvG0q"
      },
      "source": [
        "# submission\n",
        "pd.DataFrame(\n",
        "    {'id': x_test_df.index,\n",
        "     'rating': predict_class(x_test)}).to_csv('sample_submission.csv', index=False)"
      ],
      "execution_count": 12,
      "outputs": []
    }
  ]
}